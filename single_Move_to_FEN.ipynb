{
 "cells": [
  {
   "cell_type": "code",
   "execution_count": 20,
   "id": "47fbe54f-1052-4a0d-858f-6a4084ac6f05",
   "metadata": {},
   "outputs": [],
   "source": [
    "import chess"
   ]
  },
  {
   "cell_type": "code",
   "execution_count": 24,
   "id": "79cf1362-df1c-4bdb-bc59-4b86d78f16f2",
   "metadata": {},
   "outputs": [],
   "source": [
    "def moves_to_fen(moves):\n",
    "    board = chess.Board()\n",
    "    fen_list = []\n",
    "\n",
    "    for move in moves:\n",
    "            board.push_san(move)\n",
    "            fen_list.append(board.fen())\n",
    "\n",
    "    return fen_list"
   ]
  },
  {
   "cell_type": "code",
   "execution_count": 28,
   "id": "3c20fb88-2244-43ce-8037-dae31c3198a3",
   "metadata": {},
   "outputs": [
    {
     "name": "stdout",
     "output_type": "stream",
     "text": [
      "rnbqkbnr/pppppppp/8/8/3P4/8/PPP1PPPP/RNBQKBNR b KQkq - 0 1\n"
     ]
    }
   ],
   "source": [
    "if __name__ == \"__main__\":\n",
    "    moves = ['d4']\n",
    "    fen_list = moves_to_fen(moves)\n",
    "    for i, fen in enumerate(fen_list):\n",
    "        print(fen)"
   ]
  },
  {
   "cell_type": "code",
   "execution_count": null,
   "id": "52b2120c-ad2a-4442-a5f4-da254a922285",
   "metadata": {},
   "outputs": [],
   "source": []
  }
 ],
 "metadata": {
  "kernelspec": {
   "display_name": "Python 3 (ipykernel)",
   "language": "python",
   "name": "python3"
  },
  "language_info": {
   "codemirror_mode": {
    "name": "ipython",
    "version": 3
   },
   "file_extension": ".py",
   "mimetype": "text/x-python",
   "name": "python",
   "nbconvert_exporter": "python",
   "pygments_lexer": "ipython3",
   "version": "3.12.3"
  }
 },
 "nbformat": 4,
 "nbformat_minor": 5
}
