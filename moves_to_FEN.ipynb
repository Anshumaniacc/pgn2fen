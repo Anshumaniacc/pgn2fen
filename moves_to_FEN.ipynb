{
 "cells": [
  {
   "cell_type": "code",
   "execution_count": 6,
   "id": "61cb9c9e-d00d-44a2-ad52-f2b103912a67",
   "metadata": {},
   "outputs": [],
   "source": [
    "import chess\n",
    "\n",
    "def moves_to_fen(moves):\n",
    "    board = chess.Board()\n",
    "\n",
    "    for move in moves:\n",
    "        try:\n",
    "            board.push_san(move)\n",
    "        except ValueError:\n",
    "            print(f\"Invalid move: {move}\")\n",
    "            return None\n",
    "\n",
    "    return board.fen()"
   ]
  },
  {
   "cell_type": "code",
   "execution_count": 8,
   "id": "0e19108c-de58-4ae9-a623-85cbdad86ea5",
   "metadata": {},
   "outputs": [
    {
     "name": "stdout",
     "output_type": "stream",
     "text": [
      "rnbqk2r/pppp1ppp/4pn2/8/1bPP4/2N5/PP2PPPP/R1BQKBNR w KQkq - 2 4\n"
     ]
    }
   ],
   "source": [
    "if __name__ == \"__main__\":\n",
    "    moves = ['d4', 'Nf6', 'c4', 'e6', 'Nc3', 'Bb4']\n",
    "    final_fen = moves_to_fen(moves)\n",
    "    print(final_fen)"
   ]
  },
  {
   "cell_type": "code",
   "execution_count": null,
   "id": "c2503b89-9fa6-452f-9c22-c2b0e27210c8",
   "metadata": {},
   "outputs": [],
   "source": []
  }
 ],
 "metadata": {
  "kernelspec": {
   "display_name": "Python 3 (ipykernel)",
   "language": "python",
   "name": "python3"
  },
  "language_info": {
   "codemirror_mode": {
    "name": "ipython",
    "version": 3
   },
   "file_extension": ".py",
   "mimetype": "text/x-python",
   "name": "python",
   "nbconvert_exporter": "python",
   "pygments_lexer": "ipython3",
   "version": "3.12.3"
  }
 },
 "nbformat": 4,
 "nbformat_minor": 5
}
