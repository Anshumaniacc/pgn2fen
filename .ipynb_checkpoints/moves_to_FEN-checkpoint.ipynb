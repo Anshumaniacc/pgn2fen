{
 "cells": [
  {
   "cell_type": "code",
   "execution_count": null,
   "id": "349a80e9-619b-47c1-8d9c-d0663195be6c",
   "metadata": {},
   "outputs": [],
   "source": [
    "import chess"
   ]
  },
  {
   "cell_type": "code",
   "execution_count": null,
   "id": "91f10d61-020d-4e31-96f8-137d32cfd1a0",
   "metadata": {},
   "outputs": [],
   "source": [
    "def moves_to_fen(moves):\n",
    "    board = chess.Board()\n",
    "\n",
    "    for move in moves:\n",
    "            board.push_san(move)\n",
    "\n",
    "    return board.fen()"
   ]
  },
  {
   "cell_type": "code",
   "execution_count": null,
   "id": "defd740f-b6ff-4392-8b64-bdb3f5b1e1e1",
   "metadata": {},
   "outputs": [],
   "source": [
    "if __name__ == \"__main__\":\n",
    "    moves = ['d4', 'Nf6', 'c4', 'e6', 'Nc3', 'Bb4']\n",
    "    final_fen = moves_to_fen(moves)\n",
    "    if final_fen:\n",
    "        print(f\"Final FEN after moves: {final_fen}\")"
   ]
  },
  {
   "cell_type": "code",
   "execution_count": null,
   "id": "735151e0-621d-4651-9f06-5907558c84bb",
   "metadata": {},
   "outputs": [],
   "source": []
  }
 ],
 "metadata": {
  "kernelspec": {
   "display_name": "Python 3 (ipykernel)",
   "language": "python",
   "name": "python3"
  },
  "language_info": {
   "codemirror_mode": {
    "name": "ipython",
    "version": 3
   },
   "file_extension": ".py",
   "mimetype": "text/x-python",
   "name": "python",
   "nbconvert_exporter": "python",
   "pygments_lexer": "ipython3",
   "version": "3.12.3"
  }
 },
 "nbformat": 4,
 "nbformat_minor": 5
}
